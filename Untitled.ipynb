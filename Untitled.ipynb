{
 "cells": [
  {
   "cell_type": "code",
   "execution_count": 1,
   "id": "b31012d6-17be-4312-9b31-47d7fb5aa345",
   "metadata": {},
   "outputs": [],
   "source": [
    "import pickle\n",
    "import numpy as np\n",
    "from typing import Type, Dict\n",
    "from numpy.typing import NDArray\n",
    "from sklearn import datasets\n",
    "from sklearn.tree import DecisionTreeClassifier\n",
    "from sklearn.base import BaseEstimator\n",
    "from sklearn.model_selection import (\n",
    "    ShuffleSplit,\n",
    "    cross_validate,\n",
    "    KFold,\n",
    ")\n",
    "from typing import Any\n",
    "from sklearn.ensemble import RandomForestClassifier\n",
    "import utils as u\n",
    "import new_utils as nu"
   ]
  },
  {
   "cell_type": "code",
   "execution_count": 9,
   "id": "bce6373a-216f-490f-a260-4cf880f208c9",
   "metadata": {},
   "outputs": [
    {
     "name": "stdout",
     "output_type": "stream",
     "text": [
      "... Is MNIST dataset local?\n",
      "X.shape:  (70000, 784)\n",
      "y.shape:  (70000,)\n"
     ]
    }
   ],
   "source": [
    "X, y, Xtest, ytest = u.prepare_data()"
   ]
  },
  {
   "cell_type": "code",
   "execution_count": 10,
   "id": "dd08e2ce-e4c1-46e4-b935-eb73c58dd84e",
   "metadata": {},
   "outputs": [
    {
     "data": {
      "text/plain": [
       "(60000, 784)"
      ]
     },
     "execution_count": 10,
     "metadata": {},
     "output_type": "execute_result"
    }
   ],
   "source": [
    "X.shape"
   ]
  },
  {
   "cell_type": "code",
   "execution_count": 32,
   "id": "f7fa8b50-c96e-4415-a380-1fe1d667093f",
   "metadata": {},
   "outputs": [
    {
     "data": {
      "text/plain": [
       "(1000, 784)"
      ]
     },
     "execution_count": 32,
     "metadata": {},
     "output_type": "execute_result"
    }
   ],
   "source": [
    "X[0:1000, :].shape"
   ]
  },
  {
   "cell_type": "code",
   "execution_count": 11,
   "id": "898a806e-5619-45c3-9421-310b35df1c90",
   "metadata": {},
   "outputs": [],
   "source": [
    "X, y = u.filter_out_7_9s(X, y)"
   ]
  },
  {
   "cell_type": "code",
   "execution_count": 12,
   "id": "6ffed21c-2e81-40cc-8b65-ade11396fa40",
   "metadata": {},
   "outputs": [
    {
     "data": {
      "text/plain": [
       "(12214, 784)"
      ]
     },
     "execution_count": 12,
     "metadata": {},
     "output_type": "execute_result"
    }
   ],
   "source": [
    "X.shape"
   ]
  },
  {
   "cell_type": "code",
   "execution_count": 13,
   "id": "81a5b12b-3c73-4b8c-99ad-29435c8cf7ae",
   "metadata": {},
   "outputs": [
    {
     "data": {
      "text/plain": [
       "10992.6"
      ]
     },
     "execution_count": 13,
     "metadata": {},
     "output_type": "execute_result"
    }
   ],
   "source": [
    "12214*0.9"
   ]
  },
  {
   "cell_type": "code",
   "execution_count": null,
   "id": "5b14bb15-973b-4d97-bf21-11e28c59cc13",
   "metadata": {},
   "outputs": [],
   "source": []
  },
  {
   "cell_type": "code",
   "execution_count": 3,
   "id": "18889773-e150-4107-aa70-f1d92478d15e",
   "metadata": {},
   "outputs": [
    {
     "data": {
      "text/plain": [
       "(60000, 784)"
      ]
     },
     "execution_count": 3,
     "metadata": {},
     "output_type": "execute_result"
    }
   ],
   "source": [
    "X.shape"
   ]
  },
  {
   "cell_type": "code",
   "execution_count": 4,
   "id": "d613ec32-7a01-44f7-b330-11ab23646d6a",
   "metadata": {},
   "outputs": [
    {
     "data": {
      "text/plain": [
       "(60000,)"
      ]
     },
     "execution_count": 4,
     "metadata": {},
     "output_type": "execute_result"
    }
   ],
   "source": [
    "y.shape"
   ]
  },
  {
   "cell_type": "code",
   "execution_count": 5,
   "id": "ee9b9de5-56cf-4bdb-ab76-fdd7d572e826",
   "metadata": {},
   "outputs": [
    {
     "data": {
      "text/plain": [
       "(10000, 784)"
      ]
     },
     "execution_count": 5,
     "metadata": {},
     "output_type": "execute_result"
    }
   ],
   "source": [
    "Xtest.shape"
   ]
  },
  {
   "cell_type": "code",
   "execution_count": 6,
   "id": "ef883f0b-6451-4b53-82c1-9975928fd07f",
   "metadata": {},
   "outputs": [
    {
     "data": {
      "text/plain": [
       "(10000,)"
      ]
     },
     "execution_count": 6,
     "metadata": {},
     "output_type": "execute_result"
    }
   ],
   "source": [
    "ytest.shape"
   ]
  },
  {
   "cell_type": "code",
   "execution_count": 7,
   "id": "ae58dc57-0607-447c-b2be-8289f4a2aee5",
   "metadata": {},
   "outputs": [],
   "source": [
    "Xtrain, ytrain = u.filter_out_7_9s(X, y)"
   ]
  },
  {
   "cell_type": "code",
   "execution_count": 8,
   "id": "0a86ac81-3aa7-4787-8ab8-d6e0a3169ea4",
   "metadata": {},
   "outputs": [
    {
     "data": {
      "text/plain": [
       "(12214, 784)"
      ]
     },
     "execution_count": 8,
     "metadata": {},
     "output_type": "execute_result"
    }
   ],
   "source": [
    "Xtrain.shape"
   ]
  },
  {
   "cell_type": "code",
   "execution_count": 9,
   "id": "aa2020e9-426c-4592-8d6c-cba12509f466",
   "metadata": {},
   "outputs": [
    {
     "data": {
      "text/plain": [
       "(12214,)"
      ]
     },
     "execution_count": 9,
     "metadata": {},
     "output_type": "execute_result"
    }
   ],
   "source": [
    "ytrain.shape"
   ]
  },
  {
   "cell_type": "code",
   "execution_count": 10,
   "id": "a6bec733-ed88-46cc-b5d9-093f12193744",
   "metadata": {},
   "outputs": [],
   "source": [
    "Xtest, ytest = u.filter_out_7_9s(Xtest, ytest)"
   ]
  },
  {
   "cell_type": "code",
   "execution_count": 11,
   "id": "0f2a95fb-5cc5-4f48-adba-5d69b7d355e2",
   "metadata": {},
   "outputs": [
    {
     "data": {
      "text/plain": [
       "(2037, 784)"
      ]
     },
     "execution_count": 11,
     "metadata": {},
     "output_type": "execute_result"
    }
   ],
   "source": [
    "Xtest.shape"
   ]
  },
  {
   "cell_type": "code",
   "execution_count": 12,
   "id": "bcac4b76-8f0a-42e6-a652-75981850eab4",
   "metadata": {},
   "outputs": [
    {
     "data": {
      "text/plain": [
       "(2037,)"
      ]
     },
     "execution_count": 12,
     "metadata": {},
     "output_type": "execute_result"
    }
   ],
   "source": [
    "ytest.shape"
   ]
  },
  {
   "cell_type": "code",
   "execution_count": 13,
   "id": "127c110b-7f6e-4247-8854-f05af58a0289",
   "metadata": {},
   "outputs": [
    {
     "data": {
      "text/plain": [
       "array([7, 9, 9, ..., 7, 7, 9], dtype=int32)"
      ]
     },
     "execution_count": 13,
     "metadata": {},
     "output_type": "execute_result"
    }
   ],
   "source": [
    "ytest"
   ]
  },
  {
   "cell_type": "code",
   "execution_count": 14,
   "id": "9480c6b2-5589-4c83-8273-47b14dd6d988",
   "metadata": {},
   "outputs": [],
   "source": [
    "def scale_data(X):\n",
    "    X = X.astype(float)\n",
    "    X = X / X.max()\n",
    "    return X"
   ]
  },
  {
   "cell_type": "code",
   "execution_count": 15,
   "id": "292d1f6e-7d5e-4a0a-88db-a203dbec602d",
   "metadata": {},
   "outputs": [
    {
     "data": {
      "text/plain": [
       "12214"
      ]
     },
     "execution_count": 15,
     "metadata": {},
     "output_type": "execute_result"
    }
   ],
   "source": [
    "len(Xtrain)"
   ]
  },
  {
   "cell_type": "code",
   "execution_count": 16,
   "id": "aa99e82c-827f-4960-bf07-41b85c521551",
   "metadata": {},
   "outputs": [
    {
     "data": {
      "text/plain": [
       "1.0"
      ]
     },
     "execution_count": 16,
     "metadata": {},
     "output_type": "execute_result"
    }
   ],
   "source": [
    "np.max(Xtrain)"
   ]
  },
  {
   "cell_type": "code",
   "execution_count": 17,
   "id": "266e3b92-ade1-488c-a9bc-6f81bb7b9129",
   "metadata": {},
   "outputs": [
    {
     "data": {
      "text/plain": [
       "1.0"
      ]
     },
     "execution_count": 17,
     "metadata": {},
     "output_type": "execute_result"
    }
   ],
   "source": [
    "Xtrain.max()"
   ]
  },
  {
   "cell_type": "code",
   "execution_count": 18,
   "id": "03c674c6-423f-48de-8064-768eb146203e",
   "metadata": {},
   "outputs": [
    {
     "data": {
      "text/plain": [
       "1.0"
      ]
     },
     "execution_count": 18,
     "metadata": {},
     "output_type": "execute_result"
    }
   ],
   "source": [
    "Xtest.max()"
   ]
  },
  {
   "cell_type": "code",
   "execution_count": 19,
   "id": "5c1121e9-1fbc-447f-8899-3a1e091d39f8",
   "metadata": {},
   "outputs": [],
   "source": [
    "results=u.train_simple_classifier_with_cv(Xtrain=Xtrain,ytrain=ytrain,\n",
    "                                          clf=DecisionTreeClassifier(random_state=60),\n",
    "                                          cv=ShuffleSplit(n_splits=5,random_state=60))"
   ]
  },
  {
   "cell_type": "code",
   "execution_count": 20,
   "id": "decee406-8b31-481b-b286-b4c4e4f8b7d3",
   "metadata": {},
   "outputs": [
    {
     "data": {
      "text/plain": [
       "{'fit_time': array([0.98312712, 0.98978615, 0.97525692, 1.05130315, 0.92358923]),\n",
       " 'score_time': array([0.00201583, 0.00100207, 0.00097203, 0.00116992, 0.00132298]),\n",
       " 'test_score': array([0.97626841, 0.96972177, 0.97217676, 0.96890344, 0.97708674])}"
      ]
     },
     "execution_count": 20,
     "metadata": {},
     "output_type": "execute_result"
    }
   ],
   "source": [
    "results"
   ]
  },
  {
   "cell_type": "code",
   "execution_count": 21,
   "id": "38e67dba-05ab-469f-af28-5cb3e75b8c5f",
   "metadata": {},
   "outputs": [
    {
     "name": "stdout",
     "output_type": "stream",
     "text": [
      "Fitting 5 folds for each of 216 candidates, totalling 1080 fits\n"
     ]
    },
    {
     "ename": "KeyboardInterrupt",
     "evalue": "",
     "output_type": "error",
     "traceback": [
      "\u001b[0;31m---------------------------------------------------------------------------\u001b[0m",
      "\u001b[0;31mKeyboardInterrupt\u001b[0m                         Traceback (most recent call last)",
      "Cell \u001b[0;32mIn[21], line 12\u001b[0m\n\u001b[1;32m      4\u001b[0m param_grid \u001b[38;5;241m=\u001b[39m { \u001b[38;5;124m'\u001b[39m\u001b[38;5;124mcriterion\u001b[39m\u001b[38;5;124m'\u001b[39m: [\u001b[38;5;124m'\u001b[39m\u001b[38;5;124mgini\u001b[39m\u001b[38;5;124m'\u001b[39m, \u001b[38;5;124m'\u001b[39m\u001b[38;5;124mentropy\u001b[39m\u001b[38;5;124m'\u001b[39m],\n\u001b[1;32m      5\u001b[0m                         \u001b[38;5;124m'\u001b[39m\u001b[38;5;124mmax_depth\u001b[39m\u001b[38;5;124m'\u001b[39m: [\u001b[38;5;241m10\u001b[39m, \u001b[38;5;241m20\u001b[39m, \u001b[38;5;28;01mNone\u001b[39;00m],\n\u001b[1;32m      6\u001b[0m                         \u001b[38;5;124m'\u001b[39m\u001b[38;5;124mmin_samples_split\u001b[39m\u001b[38;5;124m'\u001b[39m: [\u001b[38;5;241m2\u001b[39m, \u001b[38;5;241m5\u001b[39m, \u001b[38;5;241m10\u001b[39m],\n\u001b[1;32m      7\u001b[0m                         \u001b[38;5;124m'\u001b[39m\u001b[38;5;124mmin_samples_leaf\u001b[39m\u001b[38;5;124m'\u001b[39m: [\u001b[38;5;241m1\u001b[39m, \u001b[38;5;241m2\u001b[39m, \u001b[38;5;241m4\u001b[39m],\n\u001b[1;32m      8\u001b[0m                         \u001b[38;5;124m'\u001b[39m\u001b[38;5;124mmax_features\u001b[39m\u001b[38;5;124m'\u001b[39m: [\u001b[38;5;124m'\u001b[39m\u001b[38;5;124mauto\u001b[39m\u001b[38;5;124m'\u001b[39m, \u001b[38;5;124m'\u001b[39m\u001b[38;5;124msqrt\u001b[39m\u001b[38;5;124m'\u001b[39m, \u001b[38;5;124m'\u001b[39m\u001b[38;5;124mlog2\u001b[39m\u001b[38;5;124m'\u001b[39m, \u001b[38;5;28;01mNone\u001b[39;00m]\n\u001b[1;32m      9\u001b[0m                     }\n\u001b[1;32m     10\u001b[0m grid_search \u001b[38;5;241m=\u001b[39m GridSearchCV(clf, param_grid, cv\u001b[38;5;241m=\u001b[39mcv, n_jobs\u001b[38;5;241m=\u001b[39m\u001b[38;5;241m-\u001b[39m\u001b[38;5;241m1\u001b[39m, verbose\u001b[38;5;241m=\u001b[39m\u001b[38;5;241m2\u001b[39m)\n\u001b[0;32m---> 12\u001b[0m \u001b[43mgrid_search\u001b[49m\u001b[38;5;241;43m.\u001b[39;49m\u001b[43mfit\u001b[49m\u001b[43m(\u001b[49m\u001b[43mXtrain\u001b[49m\u001b[43m,\u001b[49m\u001b[43mytrain\u001b[49m\u001b[43m)\u001b[49m\n",
      "File \u001b[0;32m/Library/Frameworks/Python.framework/Versions/3.12/lib/python3.12/site-packages/sklearn/base.py:1152\u001b[0m, in \u001b[0;36m_fit_context.<locals>.decorator.<locals>.wrapper\u001b[0;34m(estimator, *args, **kwargs)\u001b[0m\n\u001b[1;32m   1145\u001b[0m     estimator\u001b[38;5;241m.\u001b[39m_validate_params()\n\u001b[1;32m   1147\u001b[0m \u001b[38;5;28;01mwith\u001b[39;00m config_context(\n\u001b[1;32m   1148\u001b[0m     skip_parameter_validation\u001b[38;5;241m=\u001b[39m(\n\u001b[1;32m   1149\u001b[0m         prefer_skip_nested_validation \u001b[38;5;129;01mor\u001b[39;00m global_skip_validation\n\u001b[1;32m   1150\u001b[0m     )\n\u001b[1;32m   1151\u001b[0m ):\n\u001b[0;32m-> 1152\u001b[0m     \u001b[38;5;28;01mreturn\u001b[39;00m \u001b[43mfit_method\u001b[49m\u001b[43m(\u001b[49m\u001b[43mestimator\u001b[49m\u001b[43m,\u001b[49m\u001b[43m \u001b[49m\u001b[38;5;241;43m*\u001b[39;49m\u001b[43margs\u001b[49m\u001b[43m,\u001b[49m\u001b[43m \u001b[49m\u001b[38;5;241;43m*\u001b[39;49m\u001b[38;5;241;43m*\u001b[39;49m\u001b[43mkwargs\u001b[49m\u001b[43m)\u001b[49m\n",
      "File \u001b[0;32m/Library/Frameworks/Python.framework/Versions/3.12/lib/python3.12/site-packages/sklearn/model_selection/_search.py:898\u001b[0m, in \u001b[0;36mBaseSearchCV.fit\u001b[0;34m(self, X, y, groups, **fit_params)\u001b[0m\n\u001b[1;32m    892\u001b[0m     results \u001b[38;5;241m=\u001b[39m \u001b[38;5;28mself\u001b[39m\u001b[38;5;241m.\u001b[39m_format_results(\n\u001b[1;32m    893\u001b[0m         all_candidate_params, n_splits, all_out, all_more_results\n\u001b[1;32m    894\u001b[0m     )\n\u001b[1;32m    896\u001b[0m     \u001b[38;5;28;01mreturn\u001b[39;00m results\n\u001b[0;32m--> 898\u001b[0m \u001b[38;5;28;43mself\u001b[39;49m\u001b[38;5;241;43m.\u001b[39;49m\u001b[43m_run_search\u001b[49m\u001b[43m(\u001b[49m\u001b[43mevaluate_candidates\u001b[49m\u001b[43m)\u001b[49m\n\u001b[1;32m    900\u001b[0m \u001b[38;5;66;03m# multimetric is determined here because in the case of a callable\u001b[39;00m\n\u001b[1;32m    901\u001b[0m \u001b[38;5;66;03m# self.scoring the return type is only known after calling\u001b[39;00m\n\u001b[1;32m    902\u001b[0m first_test_score \u001b[38;5;241m=\u001b[39m all_out[\u001b[38;5;241m0\u001b[39m][\u001b[38;5;124m\"\u001b[39m\u001b[38;5;124mtest_scores\u001b[39m\u001b[38;5;124m\"\u001b[39m]\n",
      "File \u001b[0;32m/Library/Frameworks/Python.framework/Versions/3.12/lib/python3.12/site-packages/sklearn/model_selection/_search.py:1422\u001b[0m, in \u001b[0;36mGridSearchCV._run_search\u001b[0;34m(self, evaluate_candidates)\u001b[0m\n\u001b[1;32m   1420\u001b[0m \u001b[38;5;28;01mdef\u001b[39;00m \u001b[38;5;21m_run_search\u001b[39m(\u001b[38;5;28mself\u001b[39m, evaluate_candidates):\n\u001b[1;32m   1421\u001b[0m \u001b[38;5;250m    \u001b[39m\u001b[38;5;124;03m\"\"\"Search all candidates in param_grid\"\"\"\u001b[39;00m\n\u001b[0;32m-> 1422\u001b[0m     \u001b[43mevaluate_candidates\u001b[49m\u001b[43m(\u001b[49m\u001b[43mParameterGrid\u001b[49m\u001b[43m(\u001b[49m\u001b[38;5;28;43mself\u001b[39;49m\u001b[38;5;241;43m.\u001b[39;49m\u001b[43mparam_grid\u001b[49m\u001b[43m)\u001b[49m\u001b[43m)\u001b[49m\n",
      "File \u001b[0;32m/Library/Frameworks/Python.framework/Versions/3.12/lib/python3.12/site-packages/sklearn/model_selection/_search.py:845\u001b[0m, in \u001b[0;36mBaseSearchCV.fit.<locals>.evaluate_candidates\u001b[0;34m(candidate_params, cv, more_results)\u001b[0m\n\u001b[1;32m    837\u001b[0m \u001b[38;5;28;01mif\u001b[39;00m \u001b[38;5;28mself\u001b[39m\u001b[38;5;241m.\u001b[39mverbose \u001b[38;5;241m>\u001b[39m \u001b[38;5;241m0\u001b[39m:\n\u001b[1;32m    838\u001b[0m     \u001b[38;5;28mprint\u001b[39m(\n\u001b[1;32m    839\u001b[0m         \u001b[38;5;124m\"\u001b[39m\u001b[38;5;124mFitting \u001b[39m\u001b[38;5;132;01m{0}\u001b[39;00m\u001b[38;5;124m folds for each of \u001b[39m\u001b[38;5;132;01m{1}\u001b[39;00m\u001b[38;5;124m candidates,\u001b[39m\u001b[38;5;124m\"\u001b[39m\n\u001b[1;32m    840\u001b[0m         \u001b[38;5;124m\"\u001b[39m\u001b[38;5;124m totalling \u001b[39m\u001b[38;5;132;01m{2}\u001b[39;00m\u001b[38;5;124m fits\u001b[39m\u001b[38;5;124m\"\u001b[39m\u001b[38;5;241m.\u001b[39mformat(\n\u001b[1;32m    841\u001b[0m             n_splits, n_candidates, n_candidates \u001b[38;5;241m*\u001b[39m n_splits\n\u001b[1;32m    842\u001b[0m         )\n\u001b[1;32m    843\u001b[0m     )\n\u001b[0;32m--> 845\u001b[0m out \u001b[38;5;241m=\u001b[39m \u001b[43mparallel\u001b[49m\u001b[43m(\u001b[49m\n\u001b[1;32m    846\u001b[0m \u001b[43m    \u001b[49m\u001b[43mdelayed\u001b[49m\u001b[43m(\u001b[49m\u001b[43m_fit_and_score\u001b[49m\u001b[43m)\u001b[49m\u001b[43m(\u001b[49m\n\u001b[1;32m    847\u001b[0m \u001b[43m        \u001b[49m\u001b[43mclone\u001b[49m\u001b[43m(\u001b[49m\u001b[43mbase_estimator\u001b[49m\u001b[43m)\u001b[49m\u001b[43m,\u001b[49m\n\u001b[1;32m    848\u001b[0m \u001b[43m        \u001b[49m\u001b[43mX\u001b[49m\u001b[43m,\u001b[49m\n\u001b[1;32m    849\u001b[0m \u001b[43m        \u001b[49m\u001b[43my\u001b[49m\u001b[43m,\u001b[49m\n\u001b[1;32m    850\u001b[0m \u001b[43m        \u001b[49m\u001b[43mtrain\u001b[49m\u001b[38;5;241;43m=\u001b[39;49m\u001b[43mtrain\u001b[49m\u001b[43m,\u001b[49m\n\u001b[1;32m    851\u001b[0m \u001b[43m        \u001b[49m\u001b[43mtest\u001b[49m\u001b[38;5;241;43m=\u001b[39;49m\u001b[43mtest\u001b[49m\u001b[43m,\u001b[49m\n\u001b[1;32m    852\u001b[0m \u001b[43m        \u001b[49m\u001b[43mparameters\u001b[49m\u001b[38;5;241;43m=\u001b[39;49m\u001b[43mparameters\u001b[49m\u001b[43m,\u001b[49m\n\u001b[1;32m    853\u001b[0m \u001b[43m        \u001b[49m\u001b[43msplit_progress\u001b[49m\u001b[38;5;241;43m=\u001b[39;49m\u001b[43m(\u001b[49m\u001b[43msplit_idx\u001b[49m\u001b[43m,\u001b[49m\u001b[43m \u001b[49m\u001b[43mn_splits\u001b[49m\u001b[43m)\u001b[49m\u001b[43m,\u001b[49m\n\u001b[1;32m    854\u001b[0m \u001b[43m        \u001b[49m\u001b[43mcandidate_progress\u001b[49m\u001b[38;5;241;43m=\u001b[39;49m\u001b[43m(\u001b[49m\u001b[43mcand_idx\u001b[49m\u001b[43m,\u001b[49m\u001b[43m \u001b[49m\u001b[43mn_candidates\u001b[49m\u001b[43m)\u001b[49m\u001b[43m,\u001b[49m\n\u001b[1;32m    855\u001b[0m \u001b[43m        \u001b[49m\u001b[38;5;241;43m*\u001b[39;49m\u001b[38;5;241;43m*\u001b[39;49m\u001b[43mfit_and_score_kwargs\u001b[49m\u001b[43m,\u001b[49m\n\u001b[1;32m    856\u001b[0m \u001b[43m    \u001b[49m\u001b[43m)\u001b[49m\n\u001b[1;32m    857\u001b[0m \u001b[43m    \u001b[49m\u001b[38;5;28;43;01mfor\u001b[39;49;00m\u001b[43m \u001b[49m\u001b[43m(\u001b[49m\u001b[43mcand_idx\u001b[49m\u001b[43m,\u001b[49m\u001b[43m \u001b[49m\u001b[43mparameters\u001b[49m\u001b[43m)\u001b[49m\u001b[43m,\u001b[49m\u001b[43m \u001b[49m\u001b[43m(\u001b[49m\u001b[43msplit_idx\u001b[49m\u001b[43m,\u001b[49m\u001b[43m \u001b[49m\u001b[43m(\u001b[49m\u001b[43mtrain\u001b[49m\u001b[43m,\u001b[49m\u001b[43m \u001b[49m\u001b[43mtest\u001b[49m\u001b[43m)\u001b[49m\u001b[43m)\u001b[49m\u001b[43m \u001b[49m\u001b[38;5;129;43;01min\u001b[39;49;00m\u001b[43m \u001b[49m\u001b[43mproduct\u001b[49m\u001b[43m(\u001b[49m\n\u001b[1;32m    858\u001b[0m \u001b[43m        \u001b[49m\u001b[38;5;28;43menumerate\u001b[39;49m\u001b[43m(\u001b[49m\u001b[43mcandidate_params\u001b[49m\u001b[43m)\u001b[49m\u001b[43m,\u001b[49m\u001b[43m \u001b[49m\u001b[38;5;28;43menumerate\u001b[39;49m\u001b[43m(\u001b[49m\u001b[43mcv\u001b[49m\u001b[38;5;241;43m.\u001b[39;49m\u001b[43msplit\u001b[49m\u001b[43m(\u001b[49m\u001b[43mX\u001b[49m\u001b[43m,\u001b[49m\u001b[43m \u001b[49m\u001b[43my\u001b[49m\u001b[43m,\u001b[49m\u001b[43m \u001b[49m\u001b[43mgroups\u001b[49m\u001b[43m)\u001b[49m\u001b[43m)\u001b[49m\n\u001b[1;32m    859\u001b[0m \u001b[43m    \u001b[49m\u001b[43m)\u001b[49m\n\u001b[1;32m    860\u001b[0m \u001b[43m\u001b[49m\u001b[43m)\u001b[49m\n\u001b[1;32m    862\u001b[0m \u001b[38;5;28;01mif\u001b[39;00m \u001b[38;5;28mlen\u001b[39m(out) \u001b[38;5;241m<\u001b[39m \u001b[38;5;241m1\u001b[39m:\n\u001b[1;32m    863\u001b[0m     \u001b[38;5;28;01mraise\u001b[39;00m \u001b[38;5;167;01mValueError\u001b[39;00m(\n\u001b[1;32m    864\u001b[0m         \u001b[38;5;124m\"\u001b[39m\u001b[38;5;124mNo fits were performed. \u001b[39m\u001b[38;5;124m\"\u001b[39m\n\u001b[1;32m    865\u001b[0m         \u001b[38;5;124m\"\u001b[39m\u001b[38;5;124mWas the CV iterator empty? \u001b[39m\u001b[38;5;124m\"\u001b[39m\n\u001b[1;32m    866\u001b[0m         \u001b[38;5;124m\"\u001b[39m\u001b[38;5;124mWere there no candidates?\u001b[39m\u001b[38;5;124m\"\u001b[39m\n\u001b[1;32m    867\u001b[0m     )\n",
      "File \u001b[0;32m/Library/Frameworks/Python.framework/Versions/3.12/lib/python3.12/site-packages/sklearn/utils/parallel.py:65\u001b[0m, in \u001b[0;36mParallel.__call__\u001b[0;34m(self, iterable)\u001b[0m\n\u001b[1;32m     60\u001b[0m config \u001b[38;5;241m=\u001b[39m get_config()\n\u001b[1;32m     61\u001b[0m iterable_with_config \u001b[38;5;241m=\u001b[39m (\n\u001b[1;32m     62\u001b[0m     (_with_config(delayed_func, config), args, kwargs)\n\u001b[1;32m     63\u001b[0m     \u001b[38;5;28;01mfor\u001b[39;00m delayed_func, args, kwargs \u001b[38;5;129;01min\u001b[39;00m iterable\n\u001b[1;32m     64\u001b[0m )\n\u001b[0;32m---> 65\u001b[0m \u001b[38;5;28;01mreturn\u001b[39;00m \u001b[38;5;28;43msuper\u001b[39;49m\u001b[43m(\u001b[49m\u001b[43m)\u001b[49m\u001b[38;5;241;43m.\u001b[39;49m\u001b[38;5;21;43m__call__\u001b[39;49m\u001b[43m(\u001b[49m\u001b[43miterable_with_config\u001b[49m\u001b[43m)\u001b[49m\n",
      "File \u001b[0;32m/Library/Frameworks/Python.framework/Versions/3.12/lib/python3.12/site-packages/joblib/parallel.py:1952\u001b[0m, in \u001b[0;36mParallel.__call__\u001b[0;34m(self, iterable)\u001b[0m\n\u001b[1;32m   1946\u001b[0m \u001b[38;5;66;03m# The first item from the output is blank, but it makes the interpreter\u001b[39;00m\n\u001b[1;32m   1947\u001b[0m \u001b[38;5;66;03m# progress until it enters the Try/Except block of the generator and\u001b[39;00m\n\u001b[1;32m   1948\u001b[0m \u001b[38;5;66;03m# reach the first `yield` statement. This starts the aynchronous\u001b[39;00m\n\u001b[1;32m   1949\u001b[0m \u001b[38;5;66;03m# dispatch of the tasks to the workers.\u001b[39;00m\n\u001b[1;32m   1950\u001b[0m \u001b[38;5;28mnext\u001b[39m(output)\n\u001b[0;32m-> 1952\u001b[0m \u001b[38;5;28;01mreturn\u001b[39;00m output \u001b[38;5;28;01mif\u001b[39;00m \u001b[38;5;28mself\u001b[39m\u001b[38;5;241m.\u001b[39mreturn_generator \u001b[38;5;28;01melse\u001b[39;00m \u001b[38;5;28;43mlist\u001b[39;49m\u001b[43m(\u001b[49m\u001b[43moutput\u001b[49m\u001b[43m)\u001b[49m\n",
      "File \u001b[0;32m/Library/Frameworks/Python.framework/Versions/3.12/lib/python3.12/site-packages/joblib/parallel.py:1595\u001b[0m, in \u001b[0;36mParallel._get_outputs\u001b[0;34m(self, iterator, pre_dispatch)\u001b[0m\n\u001b[1;32m   1592\u001b[0m     \u001b[38;5;28;01myield\u001b[39;00m\n\u001b[1;32m   1594\u001b[0m     \u001b[38;5;28;01mwith\u001b[39;00m \u001b[38;5;28mself\u001b[39m\u001b[38;5;241m.\u001b[39m_backend\u001b[38;5;241m.\u001b[39mretrieval_context():\n\u001b[0;32m-> 1595\u001b[0m         \u001b[38;5;28;01myield from\u001b[39;00m \u001b[38;5;28mself\u001b[39m\u001b[38;5;241m.\u001b[39m_retrieve()\n\u001b[1;32m   1597\u001b[0m \u001b[38;5;28;01mexcept\u001b[39;00m \u001b[38;5;167;01mGeneratorExit\u001b[39;00m:\n\u001b[1;32m   1598\u001b[0m     \u001b[38;5;66;03m# The generator has been garbage collected before being fully\u001b[39;00m\n\u001b[1;32m   1599\u001b[0m     \u001b[38;5;66;03m# consumed. This aborts the remaining tasks if possible and warn\u001b[39;00m\n\u001b[1;32m   1600\u001b[0m     \u001b[38;5;66;03m# the user if necessary.\u001b[39;00m\n\u001b[1;32m   1601\u001b[0m     \u001b[38;5;28mself\u001b[39m\u001b[38;5;241m.\u001b[39m_exception \u001b[38;5;241m=\u001b[39m \u001b[38;5;28;01mTrue\u001b[39;00m\n",
      "File \u001b[0;32m/Library/Frameworks/Python.framework/Versions/3.12/lib/python3.12/site-packages/joblib/parallel.py:1707\u001b[0m, in \u001b[0;36mParallel._retrieve\u001b[0;34m(self)\u001b[0m\n\u001b[1;32m   1702\u001b[0m \u001b[38;5;66;03m# If the next job is not ready for retrieval yet, we just wait for\u001b[39;00m\n\u001b[1;32m   1703\u001b[0m \u001b[38;5;66;03m# async callbacks to progress.\u001b[39;00m\n\u001b[1;32m   1704\u001b[0m \u001b[38;5;28;01mif\u001b[39;00m ((\u001b[38;5;28mlen\u001b[39m(\u001b[38;5;28mself\u001b[39m\u001b[38;5;241m.\u001b[39m_jobs) \u001b[38;5;241m==\u001b[39m \u001b[38;5;241m0\u001b[39m) \u001b[38;5;129;01mor\u001b[39;00m\n\u001b[1;32m   1705\u001b[0m     (\u001b[38;5;28mself\u001b[39m\u001b[38;5;241m.\u001b[39m_jobs[\u001b[38;5;241m0\u001b[39m]\u001b[38;5;241m.\u001b[39mget_status(\n\u001b[1;32m   1706\u001b[0m         timeout\u001b[38;5;241m=\u001b[39m\u001b[38;5;28mself\u001b[39m\u001b[38;5;241m.\u001b[39mtimeout) \u001b[38;5;241m==\u001b[39m TASK_PENDING)):\n\u001b[0;32m-> 1707\u001b[0m     \u001b[43mtime\u001b[49m\u001b[38;5;241;43m.\u001b[39;49m\u001b[43msleep\u001b[49m\u001b[43m(\u001b[49m\u001b[38;5;241;43m0.01\u001b[39;49m\u001b[43m)\u001b[49m\n\u001b[1;32m   1708\u001b[0m     \u001b[38;5;28;01mcontinue\u001b[39;00m\n\u001b[1;32m   1710\u001b[0m \u001b[38;5;66;03m# We need to be careful: the job list can be filling up as\u001b[39;00m\n\u001b[1;32m   1711\u001b[0m \u001b[38;5;66;03m# we empty it and Python list are not thread-safe by\u001b[39;00m\n\u001b[1;32m   1712\u001b[0m \u001b[38;5;66;03m# default hence the use of the lock\u001b[39;00m\n",
      "\u001b[0;31mKeyboardInterrupt\u001b[0m: "
     ]
    }
   ],
   "source": [
    "from sklearn.model_selection import GridSearchCV\n",
    "clf=RandomForestClassifier(random_state=60)\n",
    "cv=ShuffleSplit(n_splits=5,random_state=60)\n",
    "param_grid = { 'criterion': ['gini', 'entropy'],\n",
    "                        'max_depth': [10, 20, None],\n",
    "                        'min_samples_split': [2, 5, 10],\n",
    "                        'min_samples_leaf': [1, 2, 4],\n",
    "                        'max_features': ['auto', 'sqrt', 'log2', None]\n",
    "                    }\n",
    "grid_search = GridSearchCV(clf, param_grid, cv=cv, n_jobs=-1, verbose=2)\n",
    "\n",
    "grid_search.fit(Xtrain,ytrain)"
   ]
  },
  {
   "cell_type": "code",
   "execution_count": null,
   "id": "a8d6f7b4-0cd6-4205-8e68-ea156e6c39ec",
   "metadata": {},
   "outputs": [],
   "source": [
    "grid_search.get_params()"
   ]
  },
  {
   "cell_type": "code",
   "execution_count": null,
   "id": "4d8165ed-4d0c-44b6-b5c9-60349ac5da87",
   "metadata": {},
   "outputs": [],
   "source": [
    "grid_search.best_estimator_"
   ]
  },
  {
   "cell_type": "code",
   "execution_count": null,
   "id": "1b5e57e4-cfb7-4e70-9dff-bcd703f9ad3b",
   "metadata": {},
   "outputs": [],
   "source": [
    "from sklearn.metrics import accuracy_score,confusion_matrix\n",
    "# Get the best estimator with optimal hyperparameters\n",
    "best_clf = grid_search.best_estimator_\n",
    "\n",
    "# Train the best classifier on the entire training dataset\n",
    "best_clf.fit(Xtrain,ytrain)\n",
    "\n",
    "# Evaluate performance on training dataset\n",
    "y_pred_train = best_clf.predict(Xtrain)\n",
    "confusion_matrix_train = confusion_matrix(ytrain, y_pred_train)\n",
    "accuracy_train = accuracy_score(ytrain, y_pred_train)\n",
    "\n",
    "# Evaluate performance on test dataset\n",
    "y_pred_test = best_clf.predict(Xtest)\n",
    "confusion_matrix_test = confusion_matrix(ytest, y_pred_test)\n",
    "accuracy_test = accuracy_score(ytest, y_pred_test)\n",
    "\n",
    "# Construct the answer dictionary\n",
    "answer = {\n",
    "\"clf\": clf,\n",
    "\"default_parameters\": clf.get_params(),\n",
    "\"best_estimator\": best_clf,\n",
    "\"grid_search\": grid_search,\n",
    "\"mean_accuracy_cv\": grid_search.best_score_,\n",
    "\"confusion_matrix_train_orig\": confusion_matrix_train,\n",
    "\"confusion_matrix_train_best\": confusion_matrix_train,\n",
    "\"confusion_matrix_test_orig\": confusion_matrix_test,\n",
    "\"confusion_matrix_test_best\": confusion_matrix_test,\n",
    "\"accuracy_orig_full_training\": accuracy_train,\n",
    "\"accuracy_best_full_training\": accuracy_train,\n",
    "\"accuracy_orig_full_testing\": accuracy_test,\n",
    "\"accuracy_best_full_testing\": accuracy_test\n",
    "}"
   ]
  },
  {
   "cell_type": "code",
   "execution_count": null,
   "id": "798abea1-88a4-4133-ab6e-d352f05ed7d1",
   "metadata": {},
   "outputs": [],
   "source": [
    "import part_1_template_solution as p"
   ]
  },
  {
   "cell_type": "code",
   "execution_count": null,
   "id": "688574aa-8a24-4106-9284-010c27b8a043",
   "metadata": {},
   "outputs": [],
   "source": [
    "f_answer=p.Section1(seed=42).partF(Xtrain,ytrain)"
   ]
  },
  {
   "cell_type": "code",
   "execution_count": null,
   "id": "21befb75-ec7c-4859-9b9b-76576bd6ac5b",
   "metadata": {},
   "outputs": [],
   "source": [
    "f_answer"
   ]
  },
  {
   "cell_type": "code",
   "execution_count": 19,
   "id": "b0afbb3b-2590-42b6-b5e1-fdab1b218ff7",
   "metadata": {},
   "outputs": [],
   "source": [
    "import pickle\n",
    "\n",
    "# Load the contents of the .pkl file\n",
    "with open('section1.pkl', 'rb') as file:\n",
    "    data = pickle.load(file)\n",
    "\n"
   ]
  },
  {
   "cell_type": "code",
   "execution_count": 20,
   "id": "432a7f8a-20e0-48b5-931e-b0964cd2cf60",
   "metadata": {},
   "outputs": [
    {
     "data": {
      "text/plain": [
       "{'1A': 0,\n",
       " '1B': ({'length_Xtrain': 12214,\n",
       "   'length_Xtest': 2037,\n",
       "   'length_ytrain': 12214,\n",
       "   'length_ytest': 2037,\n",
       "   'max_Xtrain': 1.0,\n",
       "   'max_Xtest': 1.0},\n",
       "  array([[0., 0., 0., ..., 0., 0., 0.],\n",
       "         [0., 0., 0., ..., 0., 0., 0.],\n",
       "         [0., 0., 0., ..., 0., 0., 0.],\n",
       "         ...,\n",
       "         [0., 0., 0., ..., 0., 0., 0.],\n",
       "         [0., 0., 0., ..., 0., 0., 0.],\n",
       "         [0., 0., 0., ..., 0., 0., 0.]]),\n",
       "  array([9, 7, 9, ..., 7, 9, 9], dtype=int32),\n",
       "  array([[0., 0., 0., ..., 0., 0., 0.],\n",
       "         [0., 0., 0., ..., 0., 0., 0.],\n",
       "         [0., 0., 0., ..., 0., 0., 0.],\n",
       "         ...,\n",
       "         [0., 0., 0., ..., 0., 0., 0.],\n",
       "         [0., 0., 0., ..., 0., 0., 0.],\n",
       "         [0., 0., 0., ..., 0., 0., 0.]]),\n",
       "  array([7, 9, 9, ..., 7, 7, 9], dtype=int32)),\n",
       " '1C': {'clf': DecisionTreeClassifier(random_state=42),\n",
       "  'cv': KFold(n_splits=5, random_state=42, shuffle=True),\n",
       "  'scores': {'mean_fit_time': 0.0018794536590576172,\n",
       "   'std_fit_time': 0.0002117507600533784,\n",
       "   'mean_accuracy': 0.64,\n",
       "   'std_accuracy': 0.10677078252031312}},\n",
       " '1D': {'clf': DecisionTreeClassifier(random_state=42),\n",
       "  'cv': ShuffleSplit(n_splits=5, random_state=42, test_size=None, train_size=None),\n",
       "  'scores': {'mean_fit_time': 0.0021848201751708983,\n",
       "   'std_fit_time': 0.00011729054279309741,\n",
       "   'mean_accuracy': 0.5599999999999999,\n",
       "   'std_accuracy': 0.1854723699099141},\n",
       "  'explain_kfold_vs_shuffle_split': 'Shuffle-Split compared to kfold offers more randomness in train/test splits can provide a better generalization error estimate, especially for datasets with uneven sample distribution'},\n",
       " '1E': {2: {'clf': DecisionTreeClassifier(random_state=42),\n",
       "   'cv': ShuffleSplit(n_splits=2, random_state=42, test_size=None, train_size=None),\n",
       "   'scores': {'mean_accuracy': 0.35, 'std_accuracy': 0.05000000000000002}},\n",
       "  5: {'clf': DecisionTreeClassifier(random_state=42),\n",
       "   'cv': ShuffleSplit(n_splits=5, random_state=42, test_size=None, train_size=None),\n",
       "   'scores': {'mean_accuracy': 0.5599999999999999,\n",
       "    'std_accuracy': 0.1854723699099141}},\n",
       "  8: {'clf': DecisionTreeClassifier(random_state=42),\n",
       "   'cv': ShuffleSplit(n_splits=8, random_state=42, test_size=None, train_size=None),\n",
       "   'scores': {'mean_accuracy': 0.6124999999999999,\n",
       "    'std_accuracy': 0.16909686573085855}},\n",
       "  16: {'clf': DecisionTreeClassifier(random_state=42),\n",
       "   'cv': ShuffleSplit(n_splits=16, random_state=42, test_size=None, train_size=None),\n",
       "   'scores': {'mean_accuracy': 0.6187499999999999,\n",
       "    'std_accuracy': 0.15499495959546555}}},\n",
       " '1F': {'clf_RF': RandomForestClassifier(random_state=42),\n",
       "  'clf_DT': DecisionTreeClassifier(random_state=42),\n",
       "  'cv': ShuffleSplit(n_splits=5, random_state=42, test_size=None, train_size=None),\n",
       "  'scores_RF': {'mean_fit_time': 0.047802400588989255,\n",
       "   'std_fit_time': 0.0004697869620149135,\n",
       "   'mean_accuracy': 0.58,\n",
       "   'std_accuracy': 0.24},\n",
       "  'scores_DT': {'mean_fit_time': 0.0021851062774658203,\n",
       "   'std_fit_time': 0.00013698387131389349,\n",
       "   'mean_accuracy': 0.5599999999999999,\n",
       "   'std_accuracy': 0.1854723699099141},\n",
       "  'model_highest_accuracy': 'Random Forest',\n",
       "  'model_lowest_variance': 0.03440000000000001,\n",
       "  'model_fastest': 0.0021851062774658203},\n",
       " '1G': {'clf': RandomForestClassifier(random_state=42),\n",
       "  'default_parameters': {'bootstrap': True,\n",
       "   'ccp_alpha': 0.0,\n",
       "   'class_weight': None,\n",
       "   'criterion': 'gini',\n",
       "   'max_depth': None,\n",
       "   'max_features': 'sqrt',\n",
       "   'max_leaf_nodes': None,\n",
       "   'max_samples': None,\n",
       "   'min_impurity_decrease': 0.0,\n",
       "   'min_samples_leaf': 1,\n",
       "   'min_samples_split': 2,\n",
       "   'min_weight_fraction_leaf': 0.0,\n",
       "   'n_estimators': 100,\n",
       "   'n_jobs': None,\n",
       "   'oob_score': False,\n",
       "   'random_state': 42,\n",
       "   'verbose': 0,\n",
       "   'warm_start': False},\n",
       "  'best_estimator': RandomForestClassifier(max_depth=10, max_features='log2', min_samples_leaf=4,\n",
       "                         min_samples_split=10, random_state=42),\n",
       "  'grid_search': GridSearchCV(cv=ShuffleSplit(n_splits=5, random_state=42, test_size=None, train_size=None),\n",
       "               estimator=RandomForestClassifier(random_state=42),\n",
       "               param_grid={'criterion': ['gini', 'entropy'],\n",
       "                           'max_depth': [10, 20, 30, None],\n",
       "                           'max_features': ['sqrt', 'log2', None],\n",
       "                           'min_samples_leaf': [1, 2, 4],\n",
       "                           'min_samples_split': [2, 5, 10]},\n",
       "               scoring='accuracy'),\n",
       "  'mean_accuracy_cv': 0.7,\n",
       "  'confusion_matrix_train_orig': array([[52,  0],\n",
       "         [ 0, 48]]),\n",
       "  'confusion_matrix_train_best': array([[52,  0],\n",
       "         [ 0, 48]]),\n",
       "  'confusion_matrix_test_orig': array([[9, 4],\n",
       "         [3, 4]]),\n",
       "  'confusion_matrix_test_best': array([[9, 4],\n",
       "         [1, 6]]),\n",
       "  'accuracy_orig_full_training': 1.0,\n",
       "  'accuracy_best_full_training': 1.0,\n",
       "  'accuracy_orig_full_testing': 0.65,\n",
       "  'accuracy_best_full_testing': 0.75}}"
      ]
     },
     "execution_count": 20,
     "metadata": {},
     "output_type": "execute_result"
    }
   ],
   "source": [
    "data"
   ]
  },
  {
   "cell_type": "code",
   "execution_count": 14,
   "id": "61587565-33c0-4aa9-be67-f0953ec59ffc",
   "metadata": {},
   "outputs": [
    {
     "data": {
      "text/plain": [
       "{'length_Xtrain': 6859,\n",
       " 'length_Xtest': 1128,\n",
       " 'length_ytrain': 6859,\n",
       " 'length_ytest': 1128,\n",
       " 'max_Xtrain': 1.0,\n",
       " 'max_Xtest': 1.0}"
      ]
     },
     "execution_count": 14,
     "metadata": {},
     "output_type": "execute_result"
    }
   ],
   "source": [
    "data['3B']"
   ]
  },
  {
   "cell_type": "code",
   "execution_count": 15,
   "id": "308fc6f0-bd1c-4132-be5e-dbd47cfc0609",
   "metadata": {},
   "outputs": [
    {
     "data": {
      "text/plain": [
       "{'scores': {'mean_accuracy': 0.9759450763737817,\n",
       "  'mean_recall': 0.9198197108594408,\n",
       "  'mean_precision': 0.9275316513774694,\n",
       "  'mean_f1': 0.9233437888081066,\n",
       "  'std_accuracy': 0.00441747131049589,\n",
       "  'std_recall': 0.01712214593612047,\n",
       "  'std_precision': 0.01652890854663595,\n",
       "  'std_f1': 0.013776682683587546},\n",
       " 'cv': StratifiedKFold(n_splits=5, random_state=42, shuffle=True),\n",
       " 'clf': SVC(kernel='linear', random_state=42),\n",
       " 'is_precision_higher_than_recall': 'Precision',\n",
       " 'confusion_matrix_train': array([[6247,   18],\n",
       "        [  24,  570]]),\n",
       " 'confusion_matrix_test': array([[1011,   17],\n",
       "        [  14,   86]])}"
      ]
     },
     "execution_count": 15,
     "metadata": {},
     "output_type": "execute_result"
    }
   ],
   "source": [
    "data['3C']"
   ]
  },
  {
   "cell_type": "code",
   "execution_count": null,
   "id": "4aef1d63-6b68-4ce3-8267-00ce03682f6e",
   "metadata": {},
   "outputs": [],
   "source": []
  },
  {
   "cell_type": "code",
   "execution_count": null,
   "id": "229d196f-e581-42c3-8b65-a57d574bd99e",
   "metadata": {},
   "outputs": [],
   "source": [
    "data['1F']"
   ]
  },
  {
   "cell_type": "code",
   "execution_count": null,
   "id": "6eb9c5ea-09dc-4b77-8a88-6bb650ff0eb9",
   "metadata": {},
   "outputs": [],
   "source": []
  },
  {
   "cell_type": "code",
   "execution_count": null,
   "id": "b0d10741-3af9-49df-8e16-ae385fedf6d3",
   "metadata": {},
   "outputs": [],
   "source": [
    "Xtrain, ytrain, Xtest, ytest = u.prepare_data()\n",
    "Xtrain = nu.scale_data(Xtrain)\n",
    "Xtest = nu.scale_data(Xtest)\n",
    "\n",
    "answer = {}\n",
    "answer[\"nb_classes_train\"] = len(np.unique(ytrain))\n",
    "answer[\"nb_classes_test\"] = len(np.unique(ytest))\n",
    "answer[\"class_count_train\"] = np.bincount(ytrain)\n",
    "answer[\"class_count_test\"] = np.bincount(ytest)\n",
    "answer[\"length_Xtrain\"] = len(Xtrain)\n",
    "answer[\"length_Xtest\"] = len(Xtest)\n",
    "answer[\"length_ytrain\"] = len(ytrain)\n",
    "answer[\"length_ytest\"] = len(ytest)\n",
    "answer[\"max_Xtrain\"] = Xtrain.max()\n",
    "answer[\"max_Xtest\"] = Xtest.max()"
   ]
  },
  {
   "cell_type": "code",
   "execution_count": null,
   "id": "3d059828-3af4-4e83-9b37-8c45dd36edde",
   "metadata": {},
   "outputs": [],
   "source": [
    "answer"
   ]
  },
  {
   "cell_type": "code",
   "execution_count": null,
   "id": "170c7a74-1ca9-4c0e-9cae-8d58c3ac97b3",
   "metadata": {},
   "outputs": [],
   "source": []
  },
  {
   "cell_type": "code",
   "execution_count": 17,
   "id": "58a2000d-5917-4270-908e-b714ffe5eac2",
   "metadata": {},
   "outputs": [],
   "source": [
    "import pickle\n",
    "\n",
    "# Load the contents of the .pkl file\n",
    "with open('section3.pkl', 'rb') as file:\n",
    "    data = pickle.load(file)\n",
    "\n"
   ]
  },
  {
   "cell_type": "code",
   "execution_count": 18,
   "id": "fc394ce6-850c-4964-83c7-46ef90069738",
   "metadata": {},
   "outputs": [
    {
     "data": {
      "text/plain": [
       "{'3A': {1: {'score_train': 0.9388666666666666, 'score_test': 0.9259},\n",
       "  2: {'score_train': 0.9773833333333334, 'score_test': 0.9714},\n",
       "  3: {'score_train': 0.9892666666666666, 'score_test': 0.9849},\n",
       "  4: {'score_train': 0.9944166666666666, 'score_test': 0.992},\n",
       "  5: {'score_train': 0.9972166666666666, 'score_test': 0.9952},\n",
       "  'clf': LogisticRegression(max_iter=300, random_state=42),\n",
       "  'plot_k_vs_score_train': [(1, 0.9388666666666666),\n",
       "   (2, 0.9773833333333334),\n",
       "   (3, 0.9892666666666666),\n",
       "   (4, 0.9944166666666666),\n",
       "   (5, 0.9972166666666666)],\n",
       "  'plot_k_vs_score_test': [(1, 0.9259),\n",
       "   (2, 0.9714),\n",
       "   (3, 0.9849),\n",
       "   (4, 0.992),\n",
       "   (5, 0.9952)],\n",
       "  'text_rate_accuracy_change': 'The model consistently demonstrates positive improvements in accuracy as the value of k increases for the testing data, suggesting that the model becomes increasingly proficient in predicting the top-k classes',\n",
       "  'text_is_topk_useful_and_why': \"The top-k accuracy metric is valuable for evaluating the model's performance as it assesses its capability to make accurate predictions across a broader spectrum of potential classes. This metric extends beyond conventional accuracy measures, providing a deeper understanding of the model's effectiveness in capturing relevant patterns.\"},\n",
       " '3B': {'length_Xtrain': 6859,\n",
       "  'length_Xtest': 1128,\n",
       "  'length_ytrain': 6859,\n",
       "  'length_ytest': 1128,\n",
       "  'max_Xtrain': 1.0,\n",
       "  'max_Xtest': 1.0},\n",
       " '3C': {'scores': {'mean_accuracy': 0.9903778391631739,\n",
       "   'mean_recall': 0.9513184707648801,\n",
       "   'mean_precision': 0.9872452137622723,\n",
       "   'mean_f1': 0.9684172024103841,\n",
       "   'std_accuracy': 0.0014853343588049927,\n",
       "   'std_recall': 0.006858546017439893,\n",
       "   'std_precision': 0.003743184164683362,\n",
       "   'std_f1': 0.004946464021540054},\n",
       "  'cv': StratifiedKFold(n_splits=5, random_state=42, shuffle=True),\n",
       "  'clf': SVC(random_state=42),\n",
       "  'is_precision_higher_than_recall': 'Precision',\n",
       "  'confusion_matrix_train': array([[6263,    2],\n",
       "         [  21,  573]]),\n",
       "  'confusion_matrix_test': array([[1028,    0],\n",
       "         [  12,   88]])},\n",
       " '3D': {'scores': {'mean_accuracy': 0.9897948551099089,\n",
       "   'mean_recall': 0.9761322576564003,\n",
       "   'mean_precision': 0.9613403188204632,\n",
       "   'mean_f1': 0.9684279117050656,\n",
       "   'std_accuracy': 0.003021779939700787,\n",
       "   'std_recall': 0.003157293016060444,\n",
       "   'std_precision': 0.01600632551541891,\n",
       "   'std_f1': 0.008850729293748753},\n",
       "  'cv': StratifiedKFold(n_splits=5, random_state=42, shuffle=True),\n",
       "  'clf': SVC(class_weight={0: 0.5474062250598564, 1: 5.773569023569023}, random_state=42),\n",
       "  'class_weights': array([0.54740623, 5.77356902]),\n",
       "  'confusion_matrix_train': array([[6241,   24],\n",
       "         [   1,  593]]),\n",
       "  'confusion_matrix_test': array([[1022,    6],\n",
       "         [   2,   98]]),\n",
       "  'explain_purpose_of_class_weights': 'The class weights are used to address class imbalance by penalizing misclassifications of the minority class more heavily.',\n",
       "  'explain_performance_difference': \"The performance difference observed with class weights reflects the model's improved ability to generalize to the minority class, leading to more balanced performance metrics across all classes.\"}}"
      ]
     },
     "execution_count": 18,
     "metadata": {},
     "output_type": "execute_result"
    }
   ],
   "source": [
    "data"
   ]
  },
  {
   "cell_type": "code",
   "execution_count": 21,
   "id": "94bc0c4d-497c-423d-9a0f-a110b6913e47",
   "metadata": {},
   "outputs": [
    {
     "data": {
      "text/plain": [
       "0"
      ]
     },
     "execution_count": 21,
     "metadata": {},
     "output_type": "execute_result"
    }
   ],
   "source": [
    "int(0.1)"
   ]
  },
  {
   "cell_type": "code",
   "execution_count": 27,
   "id": "19536654-3bcc-42f9-85d1-893d123e7722",
   "metadata": {},
   "outputs": [
    {
     "data": {
      "text/plain": [
       "0"
      ]
     },
     "execution_count": 27,
     "metadata": {},
     "output_type": "execute_result"
    }
   ],
   "source": [
    "int(0.9*1)"
   ]
  },
  {
   "cell_type": "code",
   "execution_count": 25,
   "id": "c730f9be-8a46-49af-ad87-0bffc17b453a",
   "metadata": {},
   "outputs": [
    {
     "data": {
      "text/plain": [
       "494.1"
      ]
     },
     "execution_count": 25,
     "metadata": {},
     "output_type": "execute_result"
    }
   ],
   "source": [
    "0.9*549"
   ]
  },
  {
   "cell_type": "code",
   "execution_count": 26,
   "id": "1c5c7003-3f50-4b42-9e7f-54f788766bc3",
   "metadata": {},
   "outputs": [
    {
     "data": {
      "text/plain": [
       "494"
      ]
     },
     "execution_count": 26,
     "metadata": {},
     "output_type": "execute_result"
    }
   ],
   "source": [
    "int(494.9)"
   ]
  },
  {
   "cell_type": "code",
   "execution_count": null,
   "id": "a10aefba-e68f-41a4-a9a5-b707e82102a9",
   "metadata": {},
   "outputs": [],
   "source": []
  },
  {
   "cell_type": "code",
   "execution_count": null,
   "id": "e873332a-bbad-49f7-8338-531ea8c28bf0",
   "metadata": {},
   "outputs": [],
   "source": [
    "data['2B']"
   ]
  },
  {
   "cell_type": "code",
   "execution_count": null,
   "id": "64f8467a-dbea-4cc5-9246-9b5f7674bc49",
   "metadata": {},
   "outputs": [],
   "source": [
    "ytest == 9"
   ]
  },
  {
   "cell_type": "code",
   "execution_count": null,
   "id": "70a36390-e983-418e-b86d-88e3614a31d8",
   "metadata": {},
   "outputs": [],
   "source": [
    "nine_idx = (ytest == 9)"
   ]
  },
  {
   "cell_type": "code",
   "execution_count": null,
   "id": "87a28d2a-8a97-40d3-b404-fa6be6876efe",
   "metadata": {},
   "outputs": [],
   "source": [
    "ytest.shape"
   ]
  },
  {
   "cell_type": "code",
   "execution_count": null,
   "id": "f39a270a-371a-416e-a9e6-1b379f9a4110",
   "metadata": {},
   "outputs": [],
   "source": [
    "ytest[nine_idx][:int((ytest[nine_idx].shape[0])*0.1),:]"
   ]
  },
  {
   "cell_type": "code",
   "execution_count": null,
   "id": "f7a0fc78-79c1-49de-8452-559ac3f6ee2a",
   "metadata": {},
   "outputs": [],
   "source": [
    "ytest[nine_idx].shape"
   ]
  },
  {
   "cell_type": "code",
   "execution_count": null,
   "id": "9f0ca2f5-aae6-4031-86f6-b6c65862499f",
   "metadata": {},
   "outputs": [],
   "source": []
  },
  {
   "cell_type": "code",
   "execution_count": null,
   "id": "6d686634-9342-48cb-b312-7b1901ef2317",
   "metadata": {},
   "outputs": [],
   "source": [
    "import numpy as np\n",
    "from numpy.typing import NDArray\n",
    "from typing import Any\n",
    "\n",
    "\"\"\"\n",
    "   In the first two set of tasks, we will narrowly focus on accuracy - \n",
    "   what fraction of our predictions were correct. However, there are several \n",
    "   popular evaluation metrics. You will learn how (and when) to use these evaluation metrics.\n",
    "\"\"\"\n",
    "\n",
    "\n",
    "# ======================================================================\n",
    "class Section3:\n",
    "    def __init__(\n",
    "        self,\n",
    "        normalize: bool = True,\n",
    "        frac_train=0.2,\n",
    "        seed=42,\n",
    "    ):\n",
    "        self.seed = seed\n",
    "        self.normalize = normalize\n",
    "\n",
    "    def analyze_class_distribution(self, y: NDArray[np.int32]) -> dict[str, Any]:\n",
    "        \"\"\"\n",
    "        Analyzes and prints the class distribution in the dataset.\n",
    "\n",
    "        Parameters:\n",
    "        - y (array-like): Labels dataset.\n",
    "\n",
    "        Returns:\n",
    "        - dict: A dictionary containing the count of elements in each class and the total number of classes.\n",
    "        \"\"\"\n",
    "        # Your code here to analyze class distribution\n",
    "        # Hint: Consider using collections.Counter or numpy.unique for counting\n",
    "\n",
    "        uniq, counts = np.unique(y, return_counts=True)\n",
    "        print(f\"{uniq=}\")\n",
    "        print(f\"{counts=}\")\n",
    "        print(f\"{np.sum(counts)=}\")\n",
    "\n",
    "        return {\n",
    "            \"class_counts\": {},  # Replace with actual class counts\n",
    "            \"num_classes\": 0,  # Replace with the actual number of classes\n",
    "        }\n",
    "\n",
    "    # --------------------------------------------------------------------------\n",
    "    \"\"\"\n",
    "    A. Using the same classifier and hyperparameters as the one used at the end of part 2.B. \n",
    "       Get the accuracies of the training/test set scores using the top_k_accuracy score for k=1,2,3,4,5. \n",
    "       Make a plot of k vs. score for both training and testing data and comment on the rate of accuracy change. \n",
    "       Do you think this metric is useful for this dataset?\n",
    "    \"\"\"\n",
    "\n",
    "    def partA(\n",
    "        self,\n",
    "        Xtrain: NDArray[np.floating],\n",
    "        ytrain: NDArray[np.int32],\n",
    "        Xtest: NDArray[np.floating],\n",
    "        ytest: NDArray[np.int32],\n",
    "    ) -> tuple[\n",
    "        dict[Any, Any],\n",
    "        NDArray[np.floating],\n",
    "        NDArray[np.int32],\n",
    "        NDArray[np.floating],\n",
    "        NDArray[np.int32],\n",
    "    ]:\n",
    "        \"\"\" \"\"\"\n",
    "        # Enter code and return the `answer`` dictionary\n",
    "\n",
    "        answer = {}\n",
    "\n",
    "        \"\"\"\n",
    "        # `answer` is a dictionary with the following keys:\n",
    "        - integers for each topk (1,2,3,4,5)\n",
    "        - \"clf\" : the classifier\n",
    "        - \"plot_k_vs_score_train\" : the plot of k vs. score for the training data, \n",
    "                                    a list of tuples (k, score) for k=1,2,3,4,5\n",
    "        - \"plot_k_vs_score_test\" : the plot of k vs. score for the testing data\n",
    "                                    a list of tuples (k, score) for k=1,2,3,4,5\n",
    "\n",
    "        # Comment on the rate of accuracy change for testing data\n",
    "        - \"text_rate_accuracy_change\" : the rate of accuracy change for the testing data\n",
    "\n",
    "        # Comment on the rate of accuracy change\n",
    "        - \"text_is_topk_useful_and_why\" : provide a description as a string\n",
    "\n",
    "        answer[k] (k=1,2,3,4,5) is a dictionary with the following keys: \n",
    "        - \"score_train\" : the topk accuracy score for the training set\n",
    "        - \"score_test\" : the topk accuracy score for the testing set\n",
    "        \"\"\"\n",
    "\n",
    "        return answer, Xtrain, ytrain, Xtest, ytest\n",
    "\n",
    "    # --------------------------------------------------------------------------\n",
    "    \"\"\"\n",
    "    B. Repeat part 1.B but return an imbalanced dataset consisting of 90% of all 9s removed.  Also convert the 7s to 0s and 9s to 1s.\n",
    "    \"\"\"\n",
    "\n",
    "    def partB(\n",
    "        self,\n",
    "        X: NDArray[np.floating],\n",
    "        y: NDArray[np.int32],\n",
    "        Xtest: NDArray[np.floating],\n",
    "        ytest: NDArray[np.int32],\n",
    "    ) -> tuple[\n",
    "        dict[Any, Any],\n",
    "        NDArray[np.floating],\n",
    "        NDArray[np.int32],\n",
    "        NDArray[np.floating],\n",
    "        NDArray[np.int32],\n",
    "    ]:\n",
    "        \"\"\"\"\"\"\n",
    "        # Enter your code and fill the `answer` dictionary\n",
    "        answer = {}\n",
    "\n",
    "        #X, y, Xtest, ytest = u.prepare_data()\n",
    "        X, y = u.filter_out_7_9s(X, y)\n",
    "        Xtest, ytest = u.filter_out_7_9s(Xtest, ytest)\n",
    "        \n",
    "        X,y=nu.remove_90_9s(X,y)\n",
    "        Xtest,ytest=nu.remove_90_9s(Xtest,ytest)\n",
    "        \n",
    "        X,y=nu.convert_7_0(X,y)\n",
    "        Xtest,ytest=nu.convert_7_0(Xtest,ytest)\n",
    "        \n",
    "        X,y=nu.convert_9_1(X,y)\n",
    "        Xtest,ytest=nu.convert_9_1(Xtest,ytest)\n",
    "\n",
    "        answer[\"length_Xtrain\"] = len(X)  \n",
    "        answer[\"length_Xtest\"] = len(Xtest)\n",
    "        answer[\"length_ytrain\"] = len(y)\n",
    "        answer[\"length_ytest\"] = len(ytest)\n",
    "        answer[\"max_Xtrain\"] = X.max()\n",
    "        answer[\"max_Xtest\"] = Xtest.max()\n",
    "\n",
    "        # Answer is a dictionary with the same keys as part 1.B\n",
    "\n",
    "        return answer, X, y, Xtest, ytest\n",
    "\n",
    "    # --------------------------------------------------------------------------\n",
    "    \"\"\"\n",
    "    C. Repeat part 1.C for this dataset but use a support vector machine (SVC in sklearn). \n",
    "        Make sure to use a stratified cross-validation strategy. In addition to regular accuracy \n",
    "        also print out the mean/std of the F1 score, precision, and recall. As usual, use 5 splits. \n",
    "        Is precision or recall higher? Explain. Finally, train the classifier on all the training data \n",
    "        and plot the confusion matrix.\n",
    "        Hint: use the make_scorer function with the average='macro' argument for a multiclass dataset. \n",
    "    \"\"\"\n",
    "\n",
    "    def partC(\n",
    "        self,\n",
    "        X: NDArray[np.floating],\n",
    "        y: NDArray[np.int32],\n",
    "        Xtest: NDArray[np.floating],\n",
    "        ytest: NDArray[np.int32],\n",
    "    ) -> dict[str, Any]:\n",
    "        \"\"\"\"\"\"\n",
    "\n",
    "        # Enter your code and fill the `answer` dictionary\n",
    "        answer = {}\n",
    "\n",
    "        \"\"\"\n",
    "        Answer is a dictionary with the following keys: \n",
    "        - \"scores\" : a dictionary with the mean/std of the F1 score, precision, and recall\n",
    "        - \"cv\" : the cross-validation strategy\n",
    "        - \"clf\" : the classifier\n",
    "        - \"is_precision_higher_than_recall\" : a boolean\n",
    "        - \"explain_is_precision_higher_than_recall\" : a string\n",
    "        - \"confusion_matrix_train\" : the confusion matrix for the training set\n",
    "        - \"confusion_matrix_test\" : the confusion matrix for the testing set\n",
    "        \n",
    "        answer[\"scores\"] is dictionary with the following keys, generated from the cross-validator:\n",
    "        - \"mean_accuracy\" : the mean accuracy\n",
    "        - \"mean_recall\" : the mean recall\n",
    "        - \"mean_precision\" : the mean precision\n",
    "        - \"mean_f1\" : the mean f1\n",
    "        - \"std_accuracy\" : the std accuracy\n",
    "        - \"std_recall\" : the std recall\n",
    "        - \"std_precision\" : the std precision\n",
    "        - \"std_f1\" : the std f1\n",
    "        \"\"\"\n",
    "\n",
    "        return answer"
   ]
  }
 ],
 "metadata": {
  "kernelspec": {
   "display_name": "Python 3 (ipykernel)",
   "language": "python",
   "name": "python3"
  },
  "language_info": {
   "codemirror_mode": {
    "name": "ipython",
    "version": 3
   },
   "file_extension": ".py",
   "mimetype": "text/x-python",
   "name": "python",
   "nbconvert_exporter": "python",
   "pygments_lexer": "ipython3",
   "version": "3.12.1"
  }
 },
 "nbformat": 4,
 "nbformat_minor": 5
}
